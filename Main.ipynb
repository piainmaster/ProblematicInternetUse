{
  "nbformat": 4,
  "nbformat_minor": 0,
  "metadata": {
    "colab": {
      "provenance": []
    },
    "kernelspec": {
      "name": "python3",
      "display_name": "Python 3"
    },
    "language_info": {
      "name": "python"
    }
  },
  "cells": [
    {
      "cell_type": "markdown",
      "source": [
        "## Clone Repository"
      ],
      "metadata": {
        "id": "EZisJjliwMeE"
      }
    },
    {
      "cell_type": "code",
      "source": [
        "!git clone https://github.com/piainmaster/ProblematicInternetUse.git"
      ],
      "metadata": {
        "colab": {
          "base_uri": "https://localhost:8080/"
        },
        "id": "DaroMv9avprq",
        "outputId": "764cf467-b74c-4492-9239-dbb898e0117f"
      },
      "execution_count": 17,
      "outputs": [
        {
          "output_type": "stream",
          "name": "stdout",
          "text": [
            "Cloning into 'ProblematicInternetUse'...\n",
            "remote: Enumerating objects: 12, done.\u001b[K\n",
            "remote: Counting objects:   8% (1/12)\u001b[K\rremote: Counting objects:  16% (2/12)\u001b[K\rremote: Counting objects:  25% (3/12)\u001b[K\rremote: Counting objects:  33% (4/12)\u001b[K\rremote: Counting objects:  41% (5/12)\u001b[K\rremote: Counting objects:  50% (6/12)\u001b[K\rremote: Counting objects:  58% (7/12)\u001b[K\rremote: Counting objects:  66% (8/12)\u001b[K\rremote: Counting objects:  75% (9/12)\u001b[K\rremote: Counting objects:  83% (10/12)\u001b[K\rremote: Counting objects:  91% (11/12)\u001b[K\rremote: Counting objects: 100% (12/12)\u001b[K\rremote: Counting objects: 100% (12/12), done.\u001b[K\n",
            "remote: Compressing objects:   9% (1/11)\u001b[K\rremote: Compressing objects:  18% (2/11)\u001b[K\rremote: Compressing objects:  27% (3/11)\u001b[K\rremote: Compressing objects:  36% (4/11)\u001b[K\rremote: Compressing objects:  45% (5/11)\u001b[K\rremote: Compressing objects:  54% (6/11)\u001b[K\rremote: Compressing objects:  63% (7/11)\u001b[K\rremote: Compressing objects:  72% (8/11)\u001b[K\rremote: Compressing objects:  81% (9/11)\u001b[K\rremote: Compressing objects:  90% (10/11)\u001b[K\rremote: Compressing objects: 100% (11/11)\u001b[K\rremote: Compressing objects: 100% (11/11), done.\u001b[K\n",
            "remote: Total 12 (delta 2), reused 0 (delta 0), pack-reused 0 (from 0)\u001b[K\n",
            "Receiving objects:   8% (1/12)\rReceiving objects:  16% (2/12)\rReceiving objects:  25% (3/12)\rReceiving objects:  33% (4/12)\rReceiving objects:  41% (5/12)\rReceiving objects:  50% (6/12)\rReceiving objects:  58% (7/12)\rReceiving objects:  66% (8/12)\rReceiving objects:  75% (9/12)\rReceiving objects:  83% (10/12)\rReceiving objects:  91% (11/12)\rReceiving objects: 100% (12/12)\rReceiving objects: 100% (12/12), 7.40 KiB | 7.40 MiB/s, done.\n",
            "Resolving deltas:   0% (0/2)\rResolving deltas:  50% (1/2)\rResolving deltas: 100% (2/2)\rResolving deltas: 100% (2/2), done.\n"
          ]
        }
      ]
    },
    {
      "cell_type": "code",
      "source": [
        "%cd ProblematicInternetUse"
      ],
      "metadata": {
        "colab": {
          "base_uri": "https://localhost:8080/"
        },
        "id": "v5BfzFwWv8tm",
        "outputId": "f15b6fd7-9704-4b11-d905-75738bacbc8d"
      },
      "execution_count": 18,
      "outputs": [
        {
          "output_type": "stream",
          "name": "stdout",
          "text": [
            "/content/ProblematicInternetUse/ProblematicInternetUse/ProblematicInternetUse\n"
          ]
        }
      ]
    },
    {
      "cell_type": "markdown",
      "source": [
        "## Import Dataset"
      ],
      "metadata": {
        "id": "gaUBZB4Lx3vG"
      }
    },
    {
      "cell_type": "code",
      "source": [
        "!pip install -q kaggle # install kaggle api client"
      ],
      "metadata": {
        "id": "XTGU5cbUjr5u"
      },
      "execution_count": 19,
      "outputs": []
    },
    {
      "cell_type": "code",
      "source": [
        "!mkdir -p ~/.kaggle\n",
        "!cp kaggle.json ~/.kaggle/"
      ],
      "metadata": {
        "id": "uohSS3m_juRt"
      },
      "execution_count": 23,
      "outputs": []
    },
    {
      "cell_type": "code",
      "source": [
        "!chmod 600 ~/.kaggle/kaggle.json"
      ],
      "metadata": {
        "id": "lZhhsmzw_TMN"
      },
      "execution_count": 24,
      "outputs": []
    },
    {
      "cell_type": "code",
      "source": [
        "!kaggle competitions download -c child-mind-institute-problematic-internet-use"
      ],
      "metadata": {
        "colab": {
          "base_uri": "https://localhost:8080/"
        },
        "id": "f9XZ5dA7jyml",
        "outputId": "db8952a1-ce44-4d48-b17e-0ebba277dc82"
      },
      "execution_count": 25,
      "outputs": [
        {
          "output_type": "stream",
          "name": "stdout",
          "text": [
            "Downloading child-mind-institute-problematic-internet-use.zip to /content/ProblematicInternetUse/ProblematicInternetUse/ProblematicInternetUse\n",
            "100% 6.20G/6.21G [01:15<00:00, 85.4MB/s]\n",
            "100% 6.21G/6.21G [01:15<00:00, 88.3MB/s]\n"
          ]
        }
      ]
    },
    {
      "cell_type": "code",
      "source": [
        "!unzip -q child-mind-institute-problematic-internet-use.zip -d /content/dataset"
      ],
      "metadata": {
        "id": "aJigru5Zj_N9"
      },
      "execution_count": 26,
      "outputs": []
    },
    {
      "cell_type": "markdown",
      "source": [
        "## Push changes to GitHub"
      ],
      "metadata": {
        "id": "RCG5M_47vp_q"
      }
    },
    {
      "cell_type": "code",
      "source": [
        "!git config --global user.email \"pia.neuwirth@stud.plus.ac.at\"\n",
        "!git config --global user.name \"piainmaster\""
      ],
      "metadata": {
        "id": "a7xJgEvWwlnN"
      },
      "execution_count": 27,
      "outputs": []
    },
    {
      "cell_type": "code",
      "source": [
        "!git add Main.ipynb\n",
        "!git commit -m \"Updated the notebook with new changes\""
      ],
      "metadata": {
        "colab": {
          "base_uri": "https://localhost:8080/"
        },
        "id": "89zRDUYPwEV5",
        "outputId": "6586b6e4-bb82-48d9-91a4-f4467e6f3217"
      },
      "execution_count": 28,
      "outputs": [
        {
          "output_type": "stream",
          "name": "stdout",
          "text": [
            "On branch main\n",
            "Your branch is up to date with 'origin/main'.\n",
            "\n",
            "Untracked files:\n",
            "  (use \"git add <file>...\" to include in what will be committed)\n",
            "\t\u001b[31mchild-mind-institute-problematic-internet-use.zip\u001b[m\n",
            "\n",
            "nothing added to commit but untracked files present (use \"git add\" to track)\n"
          ]
        }
      ]
    },
    {
      "cell_type": "code",
      "source": [
        "!git push origin main"
      ],
      "metadata": {
        "id": "tPM1A09nzNfM"
      },
      "execution_count": null,
      "outputs": []
    },
    {
      "cell_type": "markdown",
      "source": [
        "## Import Parquet Data"
      ],
      "metadata": {
        "id": "h2u48VBPwR1P"
      }
    },
    {
      "cell_type": "code",
      "source": [
        "import pandas as pd\n",
        "import seaborn as sns\n",
        "import matplotlib.pyplot as plt\n",
        "import warnings\n",
        "warnings.filterwarnings('ignore')\n",
        "\n",
        "# Import data sets\n",
        "#train_data = pd.read_parquet(\"/content/dataset/series_train.parquet\")\n",
        "test_data = pd.read_parquet(\"/content/dataset/series_test.parquet\")\n",
        "\n",
        "df = test_data\n",
        "df.to_csv('series_test.csv')\n",
        "\n",
        "print(\"Test data shape:\" + str(df.shape))\n",
        "# Check for missing values\n",
        "print(\"\\nMissing Values in Test Data:\")\n",
        "print(df.isnull().sum())\n",
        "\n",
        "print(df.head())\n",
        "print(df.info())"
      ],
      "metadata": {
        "id": "FgDQDy8-vAlp"
      },
      "execution_count": null,
      "outputs": []
    }
  ]
}