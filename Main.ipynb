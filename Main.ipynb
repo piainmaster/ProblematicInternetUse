{
  "nbformat": 4,
  "nbformat_minor": 0,
  "metadata": {
    "colab": {
      "provenance": []
    },
    "kernelspec": {
      "name": "python3",
      "display_name": "Python 3"
    },
    "language_info": {
      "name": "python"
    }
  },
  "cells": [
    {
      "cell_type": "markdown",
      "source": [
        "## Clone Repository"
      ],
      "metadata": {
        "id": "EZisJjliwMeE"
      }
    },
    {
      "cell_type": "code",
      "source": [
        "!git clone https://github.com/piainmaster/ProblematicInternetUse.git"
      ],
      "metadata": {
        "colab": {
          "base_uri": "https://localhost:8080/"
        },
        "id": "DaroMv9avprq",
        "outputId": "e0f63e32-de1d-4bb5-b7d7-2c5b94724b2b"
      },
      "execution_count": 12,
      "outputs": [
        {
          "output_type": "stream",
          "name": "stdout",
          "text": [
            "Cloning into 'ProblematicInternetUse'...\n",
            "remote: Enumerating objects: 24, done.\u001b[K\n",
            "remote: Counting objects: 100% (24/24), done.\u001b[K\n",
            "remote: Compressing objects: 100% (23/23), done.\u001b[K\n",
            "remote: Total 24 (delta 5), reused 0 (delta 0), pack-reused 0 (from 0)\u001b[K\n",
            "Receiving objects: 100% (24/24), 15.35 KiB | 7.67 MiB/s, done.\n",
            "Resolving deltas: 100% (5/5), done.\n"
          ]
        }
      ]
    },
    {
      "cell_type": "code",
      "source": [
        "%cd ProblematicInternetUse"
      ],
      "metadata": {
        "colab": {
          "base_uri": "https://localhost:8080/"
        },
        "id": "v5BfzFwWv8tm",
        "outputId": "543d97c9-7b50-46d4-97af-07eb1408897d"
      },
      "execution_count": 13,
      "outputs": [
        {
          "output_type": "stream",
          "name": "stdout",
          "text": [
            "/content/ProblematicInternetUse\n"
          ]
        }
      ]
    },
    {
      "cell_type": "markdown",
      "source": [
        "## Import Dataset"
      ],
      "metadata": {
        "id": "gaUBZB4Lx3vG"
      }
    },
    {
      "cell_type": "code",
      "source": [
        "!pip install -q kaggle # install kaggle api client"
      ],
      "metadata": {
        "id": "XTGU5cbUjr5u"
      },
      "execution_count": 14,
      "outputs": []
    },
    {
      "cell_type": "code",
      "source": [
        "!pip install pyspark"
      ],
      "metadata": {
        "id": "lPkCMBkTZSBb",
        "outputId": "509822f8-06e1-4fb1-d5bd-9001d5b420bc",
        "colab": {
          "base_uri": "https://localhost:8080/"
        }
      },
      "execution_count": 3,
      "outputs": [
        {
          "output_type": "stream",
          "name": "stdout",
          "text": [
            "Collecting pyspark\n",
            "  Downloading pyspark-3.5.3.tar.gz (317.3 MB)\n",
            "\u001b[2K     \u001b[90m━━━━━━━━━━━━━━━━━━━━━━━━━━━━━━━━━━━━━━━━\u001b[0m \u001b[32m317.3/317.3 MB\u001b[0m \u001b[31m4.3 MB/s\u001b[0m eta \u001b[36m0:00:00\u001b[0m\n",
            "\u001b[?25h  Preparing metadata (setup.py) ... \u001b[?25l\u001b[?25hdone\n",
            "Requirement already satisfied: py4j==0.10.9.7 in /usr/local/lib/python3.10/dist-packages (from pyspark) (0.10.9.7)\n",
            "Building wheels for collected packages: pyspark\n",
            "  Building wheel for pyspark (setup.py) ... \u001b[?25l\u001b[?25hdone\n",
            "  Created wheel for pyspark: filename=pyspark-3.5.3-py2.py3-none-any.whl size=317840625 sha256=7243875fc397ecee7b74f98aae8505060814f1bc020d859342e509d9500bae0b\n",
            "  Stored in directory: /root/.cache/pip/wheels/1b/3a/92/28b93e2fbfdbb07509ca4d6f50c5e407f48dce4ddbda69a4ab\n",
            "Successfully built pyspark\n",
            "Installing collected packages: pyspark\n",
            "Successfully installed pyspark-3.5.3\n"
          ]
        }
      ]
    },
    {
      "cell_type": "code",
      "source": [
        "!mkdir -p ~/.kaggle\n",
        "!cp kaggle.json ~/.kaggle/"
      ],
      "metadata": {
        "id": "uohSS3m_juRt"
      },
      "execution_count": 15,
      "outputs": []
    },
    {
      "cell_type": "code",
      "source": [
        "!chmod 600 ~/.kaggle/kaggle.json"
      ],
      "metadata": {
        "id": "lZhhsmzw_TMN"
      },
      "execution_count": 16,
      "outputs": []
    },
    {
      "cell_type": "code",
      "source": [
        "!kaggle competitions download -c child-mind-institute-problematic-internet-use"
      ],
      "metadata": {
        "colab": {
          "base_uri": "https://localhost:8080/"
        },
        "id": "f9XZ5dA7jyml",
        "outputId": "3958d856-4bc0-4b8a-a4f6-e06ead6807c7"
      },
      "execution_count": 17,
      "outputs": [
        {
          "output_type": "stream",
          "name": "stdout",
          "text": [
            "Downloading child-mind-institute-problematic-internet-use.zip to /content/ProblematicInternetUse\n",
            "100% 6.21G/6.21G [00:59<00:00, 129MB/s]\n",
            "100% 6.21G/6.21G [00:59<00:00, 112MB/s]\n"
          ]
        }
      ]
    },
    {
      "cell_type": "code",
      "source": [
        "!unzip -q child-mind-institute-problematic-internet-use.zip -d /content/dataset"
      ],
      "metadata": {
        "id": "aJigru5Zj_N9"
      },
      "execution_count": 18,
      "outputs": []
    },
    {
      "cell_type": "code",
      "source": [
        "from pyspark.sql import SparkSession\n",
        "\n",
        "# Create a Spark session\n",
        "spark = SparkSession.builder.appName('ParquetExample').getOrCreate()\n",
        "\n",
        "# Read the parquet file\n",
        "df = spark.read.parquet('/content/dataset/series_train.parquet')"
      ],
      "metadata": {
        "id": "rCatex_iZexD"
      },
      "execution_count": 30,
      "outputs": []
    },
    {
      "cell_type": "code",
      "source": [
        "df.show()\n",
        "df.count()"
      ],
      "metadata": {
        "id": "QXOclfE6agVS",
        "outputId": "8ad98935-52b6-40f9-9c5f-71ba5e408aa1",
        "colab": {
          "base_uri": "https://localhost:8080/"
        }
      },
      "execution_count": 31,
      "outputs": [
        {
          "output_type": "stream",
          "name": "stdout",
          "text": [
            "+----+------------+----------+-----------+------------+---------+-------------+---------+---------------+--------------+-------+-------+-------------------+--------+\n",
            "|step|           X|         Y|          Z|        enmo|   anglez|non-wear_flag|    light|battery_voltage|   time_of_day|weekday|quarter|relative_date_PCIAT|      id|\n",
            "+----+------------+----------+-----------+------------+---------+-------------+---------+---------------+--------------+-------+-------+-------------------+--------+\n",
            "|   0|-0.049986254| 0.9789501|0.062423844| 3.457745E-5|3.6280541|          0.0|      5.0|         4089.0|46320000000000|      4|      3|                3.0|2a88cbe9|\n",
            "|   1| -0.04910988|0.97909266|0.062864974|4.7858557E-5| 3.681389|          0.0| 9.333333|      4088.1667|46325000000000|      4|      3|                3.0|2a88cbe9|\n",
            "|   2|-0.049397644| 0.9794555| 0.06318933|         0.0|3.7101982|          0.0|13.666667|      4087.3333|46330000000000|      4|      3|                3.0|2a88cbe9|\n",
            "|   3|-0.049829293|0.97920924| 0.06333204|3.3247867E-5|3.7354348|          0.0|     18.0|         4086.5|46335000000000|      4|      3|                3.0|2a88cbe9|\n",
            "|   4|-0.049463045|0.97893715| 0.06324122|         0.0|3.6563106|          0.0|     10.0|      4085.6667|46340000000000|      4|      3|                3.0|2a88cbe9|\n",
            "|   5| -0.04977697|0.97876865| 0.06269631|         0.0| 3.619983|          0.0|17.733334|      4084.8333|46345000000000|      4|      3|                3.0|2a88cbe9|\n",
            "|   6|-0.049332242|0.97953326| 0.06299471|         0.0| 3.666985|          0.0|25.466667|         4084.0|46350000000000|      4|      3|                3.0|2a88cbe9|\n",
            "|   7| -0.04925376|0.97966284| 0.06220328| 8.203586E-6| 3.586267|          0.0|     33.2|      4083.1667|46355000000000|      4|      3|                3.0|2a88cbe9|\n",
            "|   8| -0.04383854| 0.9785743| 0.06514844| 0.004170969|3.7089176|          0.0|     16.8|      4082.3333|46360000000000|      4|      3|                3.0|2a88cbe9|\n",
            "|   9|-0.037180696| 0.9790667| 0.06946888|1.5362381E-4|4.0206985|          0.0|      9.5|         4081.5|46365000000000|      4|      3|                3.0|2a88cbe9|\n",
            "|  10| -0.04028071| 0.9794036| 0.06918345|         0.0|4.0202236|          0.0|      9.3|      4080.6667|46370000000000|      4|      3|                3.0|2a88cbe9|\n",
            "|  11|-0.039273534|0.97892416| 0.06941698|         0.0| 4.020298|          0.0|      9.1|      4079.8333|46375000000000|      4|      3|                3.0|2a88cbe9|\n",
            "|  12|-0.039914466|0.97893715| 0.06923534|         0.0| 4.020298|          0.0|      8.9|         4079.0|46380000000000|      4|      3|                3.0|2a88cbe9|\n",
            "|  13|-0.039783664|0.97927403| 0.06980621|         0.0| 4.020298|          0.0|      8.7|        4078.75|46385000000000|      4|      3|                3.0|2a88cbe9|\n",
            "|  14| -0.04004527|0.97861314| 0.06968944|         0.0| 4.022606|          0.0|      8.5|         4078.5|46390000000000|      4|      3|                3.0|2a88cbe9|\n",
            "|  15|  -0.0396267|0.97883344|0.069365084|         0.0| 4.020298|          0.0|10.466666|        4078.25|46395000000000|      4|      3|                3.0|2a88cbe9|\n",
            "|  16|-0.039495897|0.97893715|0.069897026|         0.0| 4.025357|          0.0|12.433333|         4078.0|46400000000000|      4|      3|                3.0|2a88cbe9|\n",
            "|  17|-0.039901387| 0.9791704|0.069611594|         0.0|4.0205917|          0.0|     14.4|        4077.75|46405000000000|      4|      3|                3.0|2a88cbe9|\n",
            "|  18| -0.04011067|0.97892416| 0.06980621|2.2511482E-5|4.0203204|          0.0|14.995556|         4077.5|46410000000000|      4|      3|                3.0|2a88cbe9|\n",
            "|  19|-0.040450756|0.97927403| 0.07020841|         0.0|4.0225105|          0.0|15.591111|        4077.25|46415000000000|      4|      3|                3.0|2a88cbe9|\n",
            "+----+------------+----------+-----------+------------+---------+-------------+---------+---------------+--------------+-------+-------+-------------------+--------+\n",
            "only showing top 20 rows\n",
            "\n"
          ]
        },
        {
          "output_type": "execute_result",
          "data": {
            "text/plain": [
              "314569149"
            ]
          },
          "metadata": {},
          "execution_count": 31
        }
      ]
    },
    {
      "cell_type": "markdown",
      "source": [
        "## Push changes to GitHub"
      ],
      "metadata": {
        "id": "RCG5M_47vp_q"
      }
    },
    {
      "cell_type": "code",
      "source": [
        "!git config --global user.email \"pia.neuwirth@stud.plus.ac.at\"\n",
        "!git config --global user.name \"piainmaster\""
      ],
      "metadata": {
        "id": "a7xJgEvWwlnN"
      },
      "execution_count": null,
      "outputs": []
    },
    {
      "cell_type": "code",
      "source": [
        "!git add Main.ipynb\n",
        "!git commit -m \"Updated the notebook with new changes\""
      ],
      "metadata": {
        "colab": {
          "base_uri": "https://localhost:8080/"
        },
        "id": "89zRDUYPwEV5",
        "outputId": "6586b6e4-bb82-48d9-91a4-f4467e6f3217"
      },
      "execution_count": null,
      "outputs": [
        {
          "output_type": "stream",
          "name": "stdout",
          "text": [
            "On branch main\n",
            "Your branch is up to date with 'origin/main'.\n",
            "\n",
            "Untracked files:\n",
            "  (use \"git add <file>...\" to include in what will be committed)\n",
            "\t\u001b[31mchild-mind-institute-problematic-internet-use.zip\u001b[m\n",
            "\n",
            "nothing added to commit but untracked files present (use \"git add\" to track)\n"
          ]
        }
      ]
    },
    {
      "cell_type": "code",
      "source": [
        "!git push origin main"
      ],
      "metadata": {
        "id": "tPM1A09nzNfM"
      },
      "execution_count": null,
      "outputs": []
    },
    {
      "cell_type": "markdown",
      "source": [
        "## Import Data"
      ],
      "metadata": {
        "id": "h2u48VBPwR1P"
      }
    },
    {
      "cell_type": "code",
      "source": [
        "import pandas as pd\n",
        "import seaborn as sns\n",
        "import matplotlib.pyplot as plt\n",
        "import os\n",
        "import warnings\n",
        "warnings.filterwarnings('ignore')"
      ],
      "metadata": {
        "id": "yPekYgsY1PoI"
      },
      "execution_count": null,
      "outputs": []
    },
    {
      "cell_type": "markdown",
      "source": [
        "CSV DATA"
      ],
      "metadata": {
        "id": "9S8Zqibl1dTb"
      }
    },
    {
      "cell_type": "code",
      "source": [
        "# Import data sets\n",
        "train_data = pd.read_csv(\"/content/dataset/train.csv\")\n",
        "test_data = pd.read_csv(\"/content/dataset/test.csv\")\n",
        "\n",
        "print(\"Train data shape:\" + str(train_data.shape))\n",
        "# Check for missing values\n",
        "print(\"\\nMissing Values in Train Data:\")\n",
        "print(train_data.isnull().sum())"
      ],
      "metadata": {
        "colab": {
          "base_uri": "https://localhost:8080/"
        },
        "id": "ZRme5h2d1WGn",
        "outputId": "7b3669ed-64c9-4982-bb7f-e1af6696e1ba"
      },
      "execution_count": null,
      "outputs": [
        {
          "output_type": "stream",
          "name": "stdout",
          "text": [
            "Train data shape:(3960, 82)\n",
            "\n",
            "Missing Values in Train Data:\n",
            "id                                           0\n",
            "Basic_Demos-Enroll_Season                    0\n",
            "Basic_Demos-Age                              0\n",
            "Basic_Demos-Sex                              0\n",
            "CGAS-Season                               1405\n",
            "                                          ... \n",
            "SDS-SDS_Total_Raw                         1351\n",
            "SDS-SDS_Total_T                           1354\n",
            "PreInt_EduHx-Season                        420\n",
            "PreInt_EduHx-computerinternet_hoursday     659\n",
            "sii                                       1224\n",
            "Length: 82, dtype: int64\n"
          ]
        }
      ]
    },
    {
      "cell_type": "markdown",
      "source": [
        "### Parquet Data\n",
        "\n",
        "Initial unpacking in 10 chunks. Each chunk is > 3GB. The range and filename must be manually changed."
      ],
      "metadata": {
        "id": "EN_ICdRP1gY4"
      }
    },
    {
      "cell_type": "code",
      "source": [
        "dataset_folder = '/content/dataset/series_train.parquet'\n",
        "\n",
        "# Get a list of all subfolders (which contain \"id=xxxxx\")\n",
        "subfolders = [f.path for f in os.scandir(dataset_folder) if f.is_dir()]\n",
        "chunk_size = len(subfolders) // 9\n",
        "subfolders_parts = [subfolders[i:i + chunk_size] for i in range(0, len(subfolders), chunk_size)]\n",
        "\n",
        "# If the last chunk is smaller than expected (due to uneven split), it will still work.\n",
        "print(f\"Number of subfolders in each part (except possibly the last): {chunk_size}\")\n",
        "print(f\"Number of parts created: {len(subfolders_parts)}\")"
      ],
      "metadata": {
        "colab": {
          "base_uri": "https://localhost:8080/"
        },
        "id": "rBTA0C4-5pqU",
        "outputId": "da2f4ceb-9743-4a8c-a7c0-0edcf56e7d39"
      },
      "execution_count": null,
      "outputs": [
        {
          "output_type": "stream",
          "name": "stdout",
          "text": [
            "Number of subfolders in each part (except possibly the last): 110\n",
            "Number of parts created: 10\n"
          ]
        }
      ]
    },
    {
      "cell_type": "code",
      "source": [
        "import pandas as pd\n",
        "\n",
        "# Initialize an empty list to hold DataFrame chunks for each part\n",
        "full_df_parts = []\n",
        "\n",
        "# Process the first 5 parts\n",
        "for idx in range(9, 10):  # to be changed\n",
        "    subfolders_part = subfolders_parts[idx]\n",
        "    dataframes_part = []  # Temporary list for the current part's DataFrames\n",
        "\n",
        "    print(f\"Processing part {idx + 1}...\")\n",
        "\n",
        "    # Loop through each subfolder in the current part and read the `.parquet` file\n",
        "    for subfolder in subfolders_part:\n",
        "        parquet_file = os.path.join(subfolder, 'part-0.parquet')\n",
        "        df_chunk = pd.read_parquet(parquet_file)\n",
        "        dataframes_part.append(df_chunk)\n",
        "\n",
        "    part_df = pd.concat(dataframes_part, ignore_index=True)\n",
        "    full_df_parts.append(part_df)\n",
        "    print(f\"Part {idx + 1} loaded and concatenated, shape: {part_df.shape}\")\n",
        "\n",
        "full_df_part1 = pd.concat(full_df_parts, ignore_index=True)\n",
        "full_df_part1.to_csv('/content/parquet_part-10.csv', index=False) # to be changed\n",
        "print(f\"Saved part {idx + 1} to parquet_part-{idx + 1}.csv.\")\n"
      ],
      "metadata": {
        "colab": {
          "base_uri": "https://localhost:8080/"
        },
        "id": "jR3oii6X9Tuq",
        "outputId": "3ec67c37-4b75-4a35-87a7-408d200f58b3"
      },
      "execution_count": null,
      "outputs": [
        {
          "output_type": "stream",
          "name": "stdout",
          "text": [
            "Processing part 10...\n",
            "Part 10 loaded and concatenated, shape: (1912338, 13)\n",
            "Saved part 10 to parquet_part-10.csv.\n"
          ]
        }
      ]
    },
    {
      "cell_type": "markdown",
      "source": [
        "Combining of the parquet parts is done locally (once)."
      ],
      "metadata": {
        "id": "ztGwmHh5CIY9"
      }
    },
    {
      "cell_type": "code",
      "source": [
        "# Import data sets\n",
        "#train_data = pd.read_parquet(\"/content/dataset/series_train.parquet\")\n",
        "test_data = pd.read_parquet(\"/content/dataset/series_test.parquet\")\n",
        "\n",
        "df = test_data\n",
        "df.to_csv('/content/series_test.csv')\n",
        "\n",
        "print(\"Test data shape:\" + str(df.shape))\n",
        "# Check for missing values\n",
        "print(\"\\nMissing Values in Test Data:\")\n",
        "print(df.isnull().sum())\n",
        "\n",
        "print(df.head())\n",
        "print(df.info())"
      ],
      "metadata": {
        "colab": {
          "base_uri": "https://localhost:8080/"
        },
        "id": "FgDQDy8-vAlp",
        "outputId": "f71ef8fb-2d30-4d35-d05e-99f558551490"
      },
      "execution_count": null,
      "outputs": [
        {
          "output_type": "stream",
          "name": "stdout",
          "text": [
            "Test data shape:(439726, 14)\n",
            "\n",
            "Missing Values in Test Data:\n",
            "step                   0\n",
            "X                      0\n",
            "Y                      0\n",
            "Z                      0\n",
            "enmo                   0\n",
            "anglez                 0\n",
            "non-wear_flag          0\n",
            "light                  0\n",
            "battery_voltage        0\n",
            "time_of_day            0\n",
            "weekday                0\n",
            "quarter                0\n",
            "relative_date_PCIAT    0\n",
            "id                     0\n",
            "dtype: int64\n",
            "   step         X         Y         Z      enmo     anglez  non-wear_flag  \\\n",
            "0     0  0.021536  0.022214 -1.022370  0.022853 -88.280762            0.0   \n",
            "1     1  0.022005  0.022187 -1.019740  0.020231 -88.241707            0.0   \n",
            "2     2  0.022240  0.022005 -1.019401  0.019893 -88.170067            0.0   \n",
            "3     3  0.021589  0.022578 -1.018177  0.018667 -88.250031            0.0   \n",
            "4     4  0.022005  0.023763 -1.014323  0.016848 -88.130775            0.0   \n",
            "\n",
            "       light  battery_voltage     time_of_day  weekday  quarter  \\\n",
            "0  53.000000      4188.000000  56940000000000        4        3   \n",
            "1  51.666668      4188.166504  56945000000000        4        3   \n",
            "2  50.333332      4188.333496  56950000000000        4        3   \n",
            "3  50.500000      4188.500000  56955000000000        4        3   \n",
            "4  33.166668      4181.000000  57235000000000        4        3   \n",
            "\n",
            "   relative_date_PCIAT        id  \n",
            "0                 41.0  00115b9f  \n",
            "1                 41.0  00115b9f  \n",
            "2                 41.0  00115b9f  \n",
            "3                 41.0  00115b9f  \n",
            "4                 41.0  00115b9f  \n",
            "<class 'pandas.core.frame.DataFrame'>\n",
            "RangeIndex: 439726 entries, 0 to 439725\n",
            "Data columns (total 14 columns):\n",
            " #   Column               Non-Null Count   Dtype   \n",
            "---  ------               --------------   -----   \n",
            " 0   step                 439726 non-null  uint32  \n",
            " 1   X                    439726 non-null  float32 \n",
            " 2   Y                    439726 non-null  float32 \n",
            " 3   Z                    439726 non-null  float32 \n",
            " 4   enmo                 439726 non-null  float32 \n",
            " 5   anglez               439726 non-null  float32 \n",
            " 6   non-wear_flag        439726 non-null  float32 \n",
            " 7   light                439726 non-null  float32 \n",
            " 8   battery_voltage      439726 non-null  float32 \n",
            " 9   time_of_day          439726 non-null  int64   \n",
            " 10  weekday              439726 non-null  int8    \n",
            " 11  quarter              439726 non-null  int8    \n",
            " 12  relative_date_PCIAT  439726 non-null  float32 \n",
            " 13  id                   439726 non-null  category\n",
            "dtypes: category(1), float32(9), int64(1), int8(2), uint32(1)\n",
            "memory usage: 21.4 MB\n",
            "None\n"
          ]
        }
      ]
    }
  ]
}